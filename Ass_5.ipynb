{
 "cells": [
  {
   "cell_type": "markdown",
   "id": "cf2a5b7c",
   "metadata": {},
   "source": [
    "# OOP Concepts #"
   ]
  },
  {
   "cell_type": "code",
   "execution_count": null,
   "id": "b72a78c5",
   "metadata": {},
   "outputs": [
    {
     "name": "stdout",
     "output_type": "stream",
     "text": [
      "How to Win Friends & Influence People\n",
      "Dale Carnegie\n",
      "1936\n"
     ]
    }
   ],
   "source": [
    "# 1.  What is the difference between a class and an object in Python? \n",
    "# How do they relate to each other in the context of OOP? \n",
    "\n",
    "# Difference between Class and Object in Python:\n",
    "# Class is a blueprint for creating objects. It defines attributes (variables) and methods (functions).\n",
    "# Object is an instance of a class. When a class is called, it creates an object with real values.\n",
    "\n",
    "# How they Relate in OOP:\n",
    "# Class defines the structure, object uses it to store data and perform actions.\n",
    "# You can create many objects from the same class.\n",
    "# Objects use class methods to interact with data.\n",
    "\n",
    "# Coding Challenge 1:   \n",
    "# Define a class `Book` with attributes like `title`, `author`, and `year_published`. \n",
    "# Create an instance of the class and print out its attributes.\n",
    "\n",
    "class Book:\n",
    "\n",
    "   def __init__(self, title, author, year_published):\n",
    "      self.title = title\n",
    "      self.author = author\n",
    "      self.year_published = year_published\n",
    "\n",
    "   def show_title(self):\n",
    "      return self.title\n",
    "\n",
    "   def show_author(self):\n",
    "      return self.author\n",
    "\n",
    "   def show_year(self):\n",
    "      return self.year_published\n",
    "\n",
    "book1 = Book(\"How to Win Friends & Influence People\", \"Dale Carnegie\", 1936)\n",
    "\n",
    "print(book1.show_title())\n",
    "print(book1.show_author())\n",
    "print(book1.show_year())"
   ]
  },
  {
   "cell_type": "code",
   "execution_count": null,
   "id": "0f40dc62",
   "metadata": {},
   "outputs": [
    {
     "name": "stdout",
     "output_type": "stream",
     "text": [
      "the vehicle is moving...\n",
      "the car is moving...\n",
      "the bike is moving...\n"
     ]
    }
   ],
   "source": [
    "# 2.  Explain the concept of inheritance in Python. How does it promote code reuse and what are some potential pitfalls?  \n",
    "\n",
    "# Inheritance allows a class (child) to inherit properties and methods from another class (parent).\n",
    "# The child class can use or override the parent’s features.\n",
    "\n",
    "# # How It Promotes Code Reuse:\n",
    "# Common code is written once in the parent class.\n",
    "# Multiple child classes can reuse and extend it.\n",
    "# It avoids duplication and makes code easier to maintain\n",
    "\n",
    "# Coding Challenge 2:   \n",
    "# Create a base class `Vehicle` with a method `move`. \n",
    "# Then, create two derived classes `Car` and `Bike` that inherit from `Vehicle` and override the `move` method.\n",
    "\n",
    "class Vehicle:\n",
    "    def move(self):\n",
    "        print(\"the vehicle is moving...\")\n",
    "\n",
    "class Car(Vehicle):\n",
    "    def move(self):\n",
    "        print(\"the car is moving...\")\n",
    "\n",
    "class Bike(Vehicle):\n",
    "    def move(self):\n",
    "        print(\"the bike is moving...\")\n",
    "\n",
    "v = Vehicle()\n",
    "c = Car()\n",
    "b = Bike ()\n",
    "\n",
    "v.move()\n",
    "c.move()\n",
    "b.move()"
   ]
  },
  {
   "cell_type": "code",
   "execution_count": null,
   "id": "c55e6901",
   "metadata": {},
   "outputs": [
    {
     "name": "stdout",
     "output_type": "stream",
     "text": [
      "The airplane is flying...\n",
      "The train is runing...\n",
      "The boat is sailing...\n"
     ]
    }
   ],
   "source": [
    "# 3.  What is polymorphism in Python, and how is it implemented through method overriding and method overloading?  \n",
    "\n",
    "# Polymorphism means \"many forms\".\n",
    "# It allows different classes to use the same method name with different behaviors.\n",
    "# It improves flexibility and code readability in OOP.\n",
    "\n",
    "# Method Overriding (Runtime Polymorphism):\n",
    "# Defined in both parent and child classes.\n",
    "# Child class redefines the parent method to give it new behavior.\n",
    "\n",
    "# Method Overloading (Compile-time Polymorphism):\n",
    "# Python does not support true method overloading like Java/C++. \n",
    "# Instead, it uses default arguments or *args/**kwargs to achieve similar behavior.\n",
    "\n",
    "# Coding Challenge 3:   \n",
    "# Write a function `move_vehicle` that takes an object as input and calls its `move` method. \n",
    "# Create different classes (`Boat`, `Airplane`, etc.) that have their own `move` methods \n",
    "# and pass their instances to `move_vehicle`.\n",
    "\n",
    "class Boat:\n",
    "    def move(self):\n",
    "        print(\"The boat is sailing...\")\n",
    "\n",
    "class Airplane:\n",
    "    def move(self):\n",
    "        print(\"The airplane is flying...\")\n",
    "\n",
    "class Train:\n",
    "    def move(self):\n",
    "        print(\"The train is runing...\")\n",
    "\n",
    "def move_vehicle(mode):\n",
    "    mode.move()\n",
    "\n",
    "water = Boat()\n",
    "air = Airplane()\n",
    "land = Train()\n",
    "\n",
    "move_vehicle(air)\n",
    "move_vehicle(land)\n",
    "move_vehicle(water)"
   ]
  },
  {
   "cell_type": "code",
   "execution_count": null,
   "id": "2c73535e",
   "metadata": {},
   "outputs": [
    {
     "data": {
      "text/plain": [
       "15"
      ]
     },
     "execution_count": 20,
     "metadata": {},
     "output_type": "execute_result"
    }
   ],
   "source": [
    "# 4.  What are class methods and static methods in Python? How do they differ from instance methods?  \n",
    "\n",
    "# Class Methods:\n",
    "# Defined with @classmethod decorator. First parameter is self (refers to the class).\n",
    "# Can access and modify class-level data. Called on the class or object.\n",
    "\n",
    "# Static Methods:\n",
    "# Defined with @staticmethod decorator. No self or cls parameter.\n",
    "# Can't access or modify class or instance data. Used for utility functions inside a class.\n",
    "\n",
    "# Instance Methods:\n",
    "# Defined with self as the first parameter.\n",
    "# Can access and modify instance attributes. Called on an object of the class.\n",
    "\n",
    "# Coding Challenge 4:   \n",
    "# Define a class `Calculator` with a static method `multiply(a, b)` that returns the product of `a` and `b`, \n",
    "# and a class method `from_values` that creates an instance from a list of two values and returns their product.\n",
    "\n",
    "class Calculator:\n",
    "    @staticmethod\n",
    "    def multiply(a, b):\n",
    "        return a*b\n",
    "\n",
    "    \n",
    "    @classmethod\n",
    "    def from_values(self, values):\n",
    "        if len(values) != 2:\n",
    "            print(\"List must contain exactly two values\")\n",
    "        return self.multiply(values[0], values[1])\n",
    "\n",
    "multi1 = Calculator()\n",
    "\n",
    "multi1.from_values([3,5])"
   ]
  },
  {
   "cell_type": "code",
   "execution_count": null,
   "id": "e0ea18e8",
   "metadata": {},
   "outputs": [
    {
     "data": {
      "text/plain": [
       "21"
      ]
     },
     "execution_count": 5,
     "metadata": {},
     "output_type": "execute_result"
    }
   ],
   "source": [
    "# 5.  Explain the concept of encapsulation and how Python supports it through public, protected, \n",
    "# and private attributes and methods.  \n",
    "\n",
    "# it means hiding the internal details of the class and protecting the data form being \n",
    "# accessing directly by the outside world\n",
    "\n",
    "#we can do it by using the private and protected variables\n",
    "#private ---> __name\n",
    "#cannot be accessed outside the class\n",
    "#protected ---> _name\n",
    "#can be accessed only by the class and its sub class\n",
    "\n",
    "# Coding Challenge 5:   \n",
    "# Create a class `Person` with private attributes `name` and `age`, and methods to set and get these attributes. \n",
    "# Ensure that direct access to `name` and `age` is not allowed from outside the class.\n",
    "\n",
    "class Person:\n",
    "    def __init__(self, name, age):\n",
    "        self.__name = name\n",
    "        self.__age = age\n",
    "\n",
    "    \n",
    "    def get_name(self):\n",
    "        return self.__name\n",
    "    \n",
    "    def set_name(self,name):\n",
    "        self.__name = name\n",
    "\n",
    "    def get_age(self):\n",
    "        return self.__age\n",
    "    \n",
    "    def set_age(self,age):\n",
    "        self.__age = age\n",
    "\n",
    "p1 = Person(\"karan\", 21)\n",
    "p1.get_name()\n",
    "p1.get_age()\n",
    "p1.set_name(\"madhur\")\n",
    "p1.set_age(15)\n"
   ]
  },
  {
   "cell_type": "code",
   "execution_count": null,
   "id": "d8898c4e",
   "metadata": {},
   "outputs": [
    {
     "name": "stdout",
     "output_type": "stream",
     "text": [
      "Product Name : Bread\n",
      "Price : 40\n"
     ]
    }
   ],
   "source": [
    "# 6.  What is the purpose of the `__init__` method in Python classes? How does it differ from other methods?  \n",
    " \n",
    "# __init__ is the constructor method in Python. It runs automatically when an object is created.\n",
    "# It’s used to initialize instance variables (object's state).\n",
    "\n",
    "# Coding Challenge 6:   \n",
    "# Write a class `Product` with an `__init__` method that initializes the product's `name` and `price`. \n",
    "# Create an instance of `Product` and print the product's details.\n",
    "# It differs from normal methods because it’s used for object construction, not behavior.\n",
    "\n",
    "class Product:\n",
    "    def __init__(self, name, price):\n",
    "        self.name = name\n",
    "        self.price = price\n",
    "\n",
    "    def get_name(self):\n",
    "        print(\"Product Name :\",self.name)\n",
    "\n",
    "    def get_price(self):\n",
    "        print(\"Price :\",self.price)\n",
    "        \n",
    "        \n",
    "p1 = Product(\"Bread\", 40)\n",
    "p1.get_name()\n",
    "p1.get_price()"
   ]
  },
  {
   "cell_type": "code",
   "execution_count": null,
   "id": "11a36336",
   "metadata": {},
   "outputs": [
    {
     "name": "stdout",
     "output_type": "stream",
     "text": [
      "devices that perform tasks\n",
      "devices that perform electronic tasks\n",
      "a refrigerator that is able to communicate with the internet\n"
     ]
    }
   ],
   "source": [
    "# 7.  How does Python implement multiple inheritance, and what is the method resolution order (MRO)? \n",
    "# How does MRO resolve conflicts in multiple inheritance?  \n",
    "\n",
    "#  Multiple Inheritance in Python: A class can inherit from more than one parent class.\n",
    "# Syntax : class Child(Parent1, Parent2):\n",
    "\n",
    "# Method Resolution Order (MRO):\n",
    "# MRO is the order in which Python resolves method or attribute names in inheritance hierarchy.\n",
    "# Python uses the C3 Linearization algorithm (left-to-right depth-first).\n",
    "# Use ClassName.__mro__ or help(ClassName) to view MRO.\n",
    "\n",
    "# How MRO Resolves Conflicts:\n",
    "# If multiple parents have a method with the same name, Python follows the MRO to decide which method to call first.\n",
    "# It prevents ambiguity and ensures a consistent lookup path.\n",
    "\n",
    "# Coding Challenge 7:   \n",
    "# Create two classes `Appliance` and `Electronic` with a method `operate()`. \n",
    "# Then, create a class `SmartFridge` that inherits from both `Appliance` and `Electronic` and overrides `operate()`. \n",
    "# Use `super()` to demonstrate MRO in `SmartFridge`.\n",
    "\n",
    "class Appliance:\n",
    "    def operate():\n",
    "        print(\"devices that perform tasks\")\n",
    "\n",
    "class Electronic:\n",
    "    def operate():\n",
    "        print(\"devices that perform electronic tasks\")\n",
    "\n",
    "class SmartFridge(Appliance, Electronic):\n",
    "    \n",
    "    def operate():\n",
    "        print(\"a refrigerator that is able to communicate with the internet\")\n",
    "\n",
    "    Appliance.operate()\n",
    "    Electronic.operate()\n",
    "\n",
    "a = SmartFridge\n",
    "\n",
    "a.operate()"
   ]
  },
  {
   "cell_type": "code",
   "execution_count": 2,
   "id": "05a53826",
   "metadata": {},
   "outputs": [
    {
     "name": "stdout",
     "output_type": "stream",
     "text": [
      "True\n",
      "True\n",
      "False\n"
     ]
    }
   ],
   "source": [
    "# 8.  What are special methods (also known as magic methods) in Python? \n",
    "# How can they be used to customize the behavior of Python classes?  \n",
    "\n",
    "# Special methods are built-in dunder methods (double underscores) like __init__, __str__, __add__, etc.\n",
    "# They let you customize how objects behave with Python’s built-in operations.\n",
    "\n",
    "# Method\t         Purpose\n",
    "# __init__\t    Object constructor\n",
    "# __str__\t    String representation (used in print())\n",
    "# __repr__\t    Official string representation\n",
    "# __len__\t    Returns length (len(obj))\n",
    "# __add__\t    Adds two objects (obj1 + obj2)\n",
    "# __eq__\t    Compares two objects (==)\n",
    "\n",
    "\n",
    "# Coding Challenge 8:   \n",
    "# Implement the `__eq__` and `__lt__` methods in a `Book` class to compare books based on their `year_published`.\n",
    "\n",
    "class Book:\n",
    "    def __init__(self, name, year_published):\n",
    "        self.name = name\n",
    "        self.year = year_published\n",
    "\n",
    "    def __eq__(self, other):\n",
    "        return self.year == other.year\n",
    "\n",
    "    def __lt__(self, other):\n",
    "        return self.year < other.year\n",
    "\n",
    "book1 = Book(\"Book A\", 2010)\n",
    "book2 = Book(\"Book B\", 2015)\n",
    "book3 = Book(\"Book C\", 2010)\n",
    "\n",
    "print(book1 == book3)\n",
    "print(book1 < book2)\n",
    "print(book2 < book1)\n"
   ]
  },
  {
   "cell_type": "code",
   "execution_count": null,
   "id": "fbcf5873",
   "metadata": {},
   "outputs": [
    {
     "name": "stdout",
     "output_type": "stream",
     "text": [
      "Starting the truck...\n",
      "Engine started.\n",
      "Stopping the truck...\n",
      "Engine stopped.\n"
     ]
    }
   ],
   "source": [
    "# 9.  What is the difference between composition and inheritance in OOP? \n",
    "# When would you use composition instead of inheritance?\n",
    "\n",
    "# Key Differences:\n",
    "# Feature\t           Inheritance\t             Composition\n",
    "# Relationship\t         \"is-a\"\t                   \"has-a\"\n",
    "# Coupling\t         Tightly coupled\t          Loosely coupled\n",
    "# Reuse\t           Reuses implementation\t     Reuses functionality\n",
    "# Flexibility\t      Less flexible\t              More flexible\n",
    "\n",
    "# When to Use Composition Over Inheritance:\n",
    "# When behavior needs to be reused without tight coupling.\n",
    "# When you want to change components independently.\n",
    "# To avoid deep or complex inheritance hierarchies.\n",
    "# When building systems that need more flexibility or modularity.\n",
    "\n",
    "# Coding Challenge 9:   \n",
    "# Create a class `Engine` and a class `Truck` that uses composition by having \n",
    "# an instance of `Engine` as an attribute of `Truck`.\n",
    "\n",
    "class Engine:\n",
    "    def start(self):\n",
    "        print(\"Engine started.\")\n",
    "\n",
    "    def stop(self):\n",
    "        print(\"Engine stopped.\")\n",
    "\n",
    "class Truck:\n",
    "    def __init__(self):\n",
    "        self.engine = Engine()           # Composition: Truck has-an Engine\n",
    "\n",
    "    def start_truck(self):\n",
    "        print(\"Starting the truck...\")\n",
    "        self.engine.start()\n",
    "\n",
    "    def stop_truck(self):\n",
    "        print(\"Stopping the truck...\")\n",
    "        self.engine.stop()\n",
    "\n",
    "my_truck = Truck()\n",
    "my_truck.start_truck()\n",
    "my_truck.stop_truck()\n"
   ]
  },
  {
   "cell_type": "code",
   "execution_count": null,
   "id": "9638bb21",
   "metadata": {},
   "outputs": [
    {
     "name": "stdout",
     "output_type": "stream",
     "text": [
      "20\n",
      "628.0\n"
     ]
    }
   ],
   "source": [
    "# 10.  Explain the purpose of property decorators (`@property`) in Python.\n",
    "# How do they contribute to data encapsulation and controlled access to class attributes? \n",
    "\n",
    "# Purpose of @property:\n",
    "# @property is used to turn a method into a getter.\n",
    "# It lets you access method-like logic as an attribute.\n",
    "# Helps in encapsulation by controlling attribute access without changing the interface.\n",
    "\n",
    "# There contribution:\n",
    "# To make class attributes read-only or validated. To hide internal implementation while exposing a clean interface.\n",
    " \n",
    "# Coding Challenge 10:   \n",
    "# Write a class `Circle` with attributes `radius`. \n",
    "# Use property decorators to create a `diameter` property that returns the diameter of the circle \n",
    "# and an `area` property that returns the area of the circle.\n",
    "\n",
    "class Circle:\n",
    "    def __init__(self, radius):\n",
    "        self.radius = radius\n",
    "\n",
    "    @property\n",
    "    def diameter(self):\n",
    "        return 2*self.radius\n",
    "\n",
    "    @property\n",
    "    def area(self):\n",
    "        return 2*3.14*(self.radius**2)\n",
    "\n",
    "c1 = Circle(10)\n",
    "print(c1.diameter)\n",
    "print(c1.area)"
   ]
  }
 ],
 "metadata": {
  "kernelspec": {
   "display_name": "base",
   "language": "python",
   "name": "python3"
  },
  "language_info": {
   "codemirror_mode": {
    "name": "ipython",
    "version": 3
   },
   "file_extension": ".py",
   "mimetype": "text/x-python",
   "name": "python",
   "nbconvert_exporter": "python",
   "pygments_lexer": "ipython3",
   "version": "3.12.7"
  }
 },
 "nbformat": 4,
 "nbformat_minor": 5
}
