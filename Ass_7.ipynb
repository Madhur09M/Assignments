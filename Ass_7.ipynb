{
 "cells": [
  {
   "cell_type": "markdown",
   "id": "a73ac101",
   "metadata": {},
   "source": [
    "# NumPy #"
   ]
  },
  {
   "cell_type": "code",
   "execution_count": null,
   "id": "03db957a",
   "metadata": {},
   "outputs": [
    {
     "name": "stdout",
     "output_type": "stream",
     "text": [
      "addition :  [11 12 13 14 15]\n",
      "multiplication :  [ 2  4  6  8 10]\n"
     ]
    },
    {
     "data": {
      "text/plain": [
       "array([1, 2, 3, 4, 5])"
      ]
     },
     "execution_count": 2,
     "metadata": {},
     "output_type": "execute_result"
    }
   ],
   "source": [
    "# 1.  What is NumPy and what are its main advantages over regular Python lists? \n",
    "\n",
    "# NumPy is a Python library used for numerical computations and handling large multi-dimensional arrays.\n",
    "# Performance: NumPy is faster than Python lists.\n",
    "# Memory Efficiency: NumPy uses less memory because it stores data of the same type(similar data type.)\n",
    "# Functionality: Provides built-in support for mathematical, statistical, and linear algebra operations.\n",
    "\n",
    "# Coding Challenge 1:  \n",
    "# Create a NumPy array from a list of numbers and perform basic arithmetic operations \n",
    "# (addition, multiplication) on the array.\n",
    "\n",
    "import numpy as np\n",
    "\n",
    "list1 = [1, 2, 3, 4, 5]\n",
    "\n",
    "arr1 = np.array(list1)\n",
    "print(\"addition : \", arr1+10)\n",
    "print(\"multiplication : \", arr1*2)\n",
    "arr1"
   ]
  },
  {
   "cell_type": "code",
   "execution_count": 23,
   "id": "269356cd",
   "metadata": {},
   "outputs": [
    {
     "data": {
      "text/plain": [
       "array([[2, 5, 6],\n",
       "       [9, 8, 4],\n",
       "       [1, 2, 8]])"
      ]
     },
     "execution_count": 23,
     "metadata": {},
     "output_type": "execute_result"
    }
   ],
   "source": [
    "# 2.  How can you create different types of arrays in NumPy, such as arrays filled with zeros, ones, or random values? \n",
    "\n",
    "# There are some pre-defined functions in the lib NumPY, which canbe used to perform some operations \n",
    "# to get certain outputs such as arrays filled with zeros(np.zeros), ones(np.ones), or random values(np.random).\n",
    "\n",
    "# Coding Challenge 2:  \n",
    "# Write a Python script that creates a 3x3 array of zeros, a 3x3 array of ones, \n",
    "# and a 3x3 array of random integers between 1 and 10.\n",
    "\n",
    "arr2 = np.zeros((3, 3))\n",
    "arr2\n",
    "\n",
    "arr3 = np.ones((3, 3))\n",
    "arr3\n",
    "\n",
    "arr4 = np.random.randint(1, 10, 9).reshape(3, 3)   #arr4 = np.random.randint(1, 10, (3, 3))\n",
    "arr4"
   ]
  },
  {
   "cell_type": "code",
   "execution_count": null,
   "id": "5536507a",
   "metadata": {},
   "outputs": [
    {
     "name": "stdout",
     "output_type": "stream",
     "text": [
      "[[ 3  4]\n",
      " [ 8  9]\n",
      " [13 14]]\n"
     ]
    },
    {
     "data": {
      "text/plain": [
       "array([[ 0,  1,  2,  3,  4],\n",
       "       [ 5,  6,  7,  8,  9],\n",
       "       [10, 11, 12, 13, 14],\n",
       "       [15, 16, 17, 18, 19],\n",
       "       [20, 21, 22, 23, 24]])"
      ]
     },
     "execution_count": 31,
     "metadata": {},
     "output_type": "execute_result"
    }
   ],
   "source": [
    "# 3.  Explain how array indexing and slicing work in NumPy. How does it differ from standard Python list indexing? \n",
    "\n",
    "# Indexing in NumPy allows access using arr[i, j] for 2D arrays. NumPy supports multi-dimensional indexing directly.\n",
    "# Slicing uses arr[start:stop:step], similar to lists. Slicing returns a view, not a copy (unlike lists).\n",
    "\n",
    "# Coding Challenge 3:  \n",
    "# Create a 2D NumPy array and use slicing to extract a subarray from it. \n",
    "# For example, extract a 2x2 subarray from a 4x4 array.\n",
    "\n",
    "arr5 = np.arange(0, 25).reshape(5, 5)\n",
    "print(arr5[0:3, 3:])\n",
    "arr5"
   ]
  },
  {
   "cell_type": "code",
   "execution_count": null,
   "id": "5c6ed847",
   "metadata": {},
   "outputs": [
    {
     "name": "stdout",
     "output_type": "stream",
     "text": [
      "53.25\n",
      "54.5\n",
      "28.290413570677966\n"
     ]
    },
    {
     "data": {
      "text/plain": [
       "array([[85, 44, 28, 84, 68, 28, 25, 88, 51, 46],\n",
       "       [80,  0, 71, 18, 98, 78, 16, 28, 55, 45],\n",
       "       [63, 15, 50, 69, 43, 68, 79, 19, 90, 40],\n",
       "       [ 0,  0, 65, 44, 55, 88, 34, 10, 64, 34],\n",
       "       [96, 59, 93, 62, 89, 48,  4, 97, 26, 48],\n",
       "       [42,  8, 32, 57, 46, 73, 41, 59, 46, 86],\n",
       "       [73, 82, 62, 21, 22, 12, 71, 95, 33,  4],\n",
       "       [54, 13, 91, 18, 88, 50, 72, 44, 65, 82],\n",
       "       [75, 65, 98, 73,  8, 72, 37, 68, 50, 62],\n",
       "       [ 3, 10, 32, 84, 96, 96, 96, 40, 80, 50]])"
      ]
     },
     "execution_count": 43,
     "metadata": {},
     "output_type": "execute_result"
    }
   ],
   "source": [
    "# 4.  What are some common functions in NumPy \n",
    "# for performing statistical operations, such as mean, median, and standard deviation? \n",
    "\n",
    "# np.min(arr10)\n",
    "# np.max(arr10)\n",
    "# np.sum(arr10)\n",
    "# np.mean(arr10)\n",
    "# np.median(arr10)\n",
    "# np.std(arr10)\n",
    "\n",
    "# Coding Challenge 4:  \n",
    "# Write a Python script that computes the mean, median, and standard deviation of a NumPy array containing 100 random values.\n",
    "\n",
    "arr6 =  np.random.randint(0, 100, 100).reshape(10, 10)\n",
    "\n",
    "print(np.mean(arr6))\n",
    "print(np.median(arr6))\n",
    "print(np.std(arr6))\n",
    "arr6"
   ]
  },
  {
   "cell_type": "code",
   "execution_count": null,
   "id": "7f326a2c",
   "metadata": {},
   "outputs": [
    {
     "name": "stdout",
     "output_type": "stream",
     "text": [
      "addition :\n",
      " [[10 36 34 33 12]\n",
      " [25 11 42 27 10]\n",
      " [14 23 35 36 39]\n",
      " [49 18 50 31 42]\n",
      " [53 33 36 26 34]]\n",
      "subtraction :\n",
      " [[-10 -34 -30 -27  -4]\n",
      " [-15   1 -28 -11   8]\n",
      " [  6  -1 -11 -10 -11]\n",
      " [-19  14 -16   5  -4]\n",
      " [-13   9   8  20  14]]\n",
      "multiplication :\n",
      " [[ 262   83  236  116  160]\n",
      " [ 767  413  921  556  495]\n",
      " [1272  743 1606  996  830]\n",
      " [1777 1073 2291 1436 1165]\n",
      " [2282 1403 2976 1876 1500]]\n",
      "\n"
     ]
    },
    {
     "data": {
      "text/plain": [
       "array([[10, 35, 32, 30,  8],\n",
       "       [20,  5, 35, 19,  1],\n",
       "       [ 4, 12, 23, 23, 25],\n",
       "       [34,  2, 33, 13, 23],\n",
       "       [33, 12, 14,  3, 10]])"
      ]
     },
     "execution_count": 55,
     "metadata": {},
     "output_type": "execute_result"
    }
   ],
   "source": [
    "# 5.  How can you perform element-wise operations and matrix operations using NumPy? Provide examples of both. \n",
    "\n",
    "# Element-wise operations apply to each corresponding element.\n",
    "# Example: A + B adds elements of two arrays.\n",
    "# Example: A * B multiplies elements of two arrays.\n",
    "\n",
    "# Matrix operations follow linear algebra rules.\n",
    "# np.dot(A, B) or A @ B performs matrix multiplication.\n",
    "# A.T gives the transpose of matrix A.\n",
    "# np.linalg.inv(A) computes the inverse of matrix A.\n",
    "\n",
    "# Coding Challenge 5:  \n",
    "# Create two 2D NumPy arrays and perform element-wise addition, subtraction, and matrix multiplication.\n",
    "\n",
    "arr7 = np.arange(0, 25).reshape(5, 5)\n",
    "arr7\n",
    "\n",
    "arr8 = np.random.randint(0, 36, 25).reshape(5, 5)\n",
    "\n",
    "print(\"addition :\\n\",arr7+arr8)\n",
    "print(\"subtraction :\\n\",arr7-arr8)\n",
    "print(\"multiplication :\\n\",np.dot(arr7, arr8))\n",
    "print()\n",
    "arr8"
   ]
  },
  {
   "cell_type": "code",
   "execution_count": null,
   "id": "4aeb9d4f",
   "metadata": {},
   "outputs": [
    {
     "name": "stdout",
     "output_type": "stream",
     "text": [
      "[[ 1  3  5  7  9]\n",
      " [ 6  8 10 12 14]\n",
      " [11 13 15 17 19]\n",
      " [16 18 20 22 24]\n",
      " [21 23 25 27 29]]\n"
     ]
    },
    {
     "data": {
      "text/plain": [
       "array([[ 0,  1,  2,  3,  4],\n",
       "       [ 5,  6,  7,  8,  9],\n",
       "       [10, 11, 12, 13, 14],\n",
       "       [15, 16, 17, 18, 19],\n",
       "       [20, 21, 22, 23, 24]])"
      ]
     },
     "execution_count": 63,
     "metadata": {},
     "output_type": "execute_result"
    }
   ],
   "source": [
    "# 6.  What are broadcasting and how does it work in NumPy? \n",
    "# How can you use it to perform operations on arrays of different shapes? \n",
    "\n",
    "# Broadcasting is a feature that allows NumPy to perform operations on arrays of different shapes without explicit looping.\n",
    "\n",
    "# A = np.array([[1, 2, 3], [4, 5, 6]])\n",
    "# B = np.array([10, 20, 30])\n",
    "# result = A + B\n",
    "\n",
    "\n",
    "# Coding Challenge 6:  \n",
    "# Write a Python script that demonstrates broadcasting by adding a 1D array to each row of a 2D array.\n",
    "\n",
    "arr9 = np.arange(1, 6).reshape(5)       #([1 2 3 4 5])\n",
    "arr9\n",
    "arr10 = np.arange(0, 25).reshape(5, 5)\n",
    "\n",
    "print(arr9+arr10)\n",
    "arr10"
   ]
  },
  {
   "cell_type": "code",
   "execution_count": null,
   "id": "8d982f52",
   "metadata": {},
   "outputs": [
    {
     "name": "stdout",
     "output_type": "stream",
     "text": [
      "Array after replacing NaNs with mean:\n",
      " [1.   2.   3.25 4.   3.25 6.  ]\n"
     ]
    }
   ],
   "source": [
    "# 7.  How do you handle missing or NaN values in NumPy arrays? What functions or methods can be used for this purpose? \n",
    "\n",
    "# Use np.isnan(arr) to find NaN values.\n",
    "# Remove NaNs: arr = arr[~np.isnan(arr)]\n",
    "# Replace NaNs: arr[np.isnan(arr)] = value\n",
    "# Replace with mean: arr[np.isnan(arr)] = np.nanmean(arr)\n",
    "# Use np.nanmean(), np.nansum(), etc. to ignore NaNs in calculations.\n",
    "# These functions help clean and process missing data easily.\n",
    "\n",
    "# Coding Challenge 7:  \n",
    "# Create a NumPy array with some NaN values and use NumPy functions to replace NaNs with the mean of the array.\n",
    "\n",
    "arr11 = np.array([1, 2, np.nan, 4, np.nan, 6])           # Create array with NaN values\n",
    "mean = np.nanmean(arr11)                                 # Calculate mean of non-NaN elements\n",
    "arr11[np.isnan(arr11)] = mean                            # Replace NaNs with the mean\n",
    "\n",
    "print(\"Array after replacing NaNs with mean:\\n\", arr11)\n"
   ]
  },
  {
   "cell_type": "code",
   "execution_count": null,
   "id": "7431ccc8",
   "metadata": {},
   "outputs": [
    {
     "name": "stdout",
     "output_type": "stream",
     "text": [
      "[[ 0  1  2  3]\n",
      " [ 4  5  6  7]\n",
      " [ 8  9 10 11]]\n",
      "[ 0  1  2  3  4  5  6  7  8  9 10 11]\n"
     ]
    }
   ],
   "source": [
    "# 8.  Explain the purpose and usage of NumPy's `reshape()` and `flatten()` methods. \n",
    "# How can you change the shape of an array? \n",
    "\n",
    "# reshape(): Changes the shape of an array without changing its data.\n",
    "# flatten(): Converts a multi-dimensional array into a 1D array.\n",
    "\n",
    "# Coding Challenge 8:  \n",
    "# Write a Python script that creates a 1D array with 12 elements, reshapes it into a 3x4 array, \n",
    "# and then flattens it back into a 1D array.\n",
    "\n",
    "arr12 = np.arange(0, 12)\n",
    "arr13 = arr12.reshape(3, 4)\n",
    "print(arr13)\n",
    "print(arr13.flatten())"
   ]
  },
  {
   "cell_type": "code",
   "execution_count": null,
   "id": "5ee24505",
   "metadata": {},
   "outputs": [
    {
     "name": "stdout",
     "output_type": "stream",
     "text": [
      "inverse :\n",
      " [[-2.   1. ]\n",
      " [ 1.5 -0.5]]\n",
      "eigenvalues and eigenvectors of the matrix :\n",
      " [[-0.82456484 -0.41597356]\n",
      " [ 0.56576746 -0.90937671]]\n"
     ]
    }
   ],
   "source": [
    "# 9.  What is the role of `numpy.linalg` for linear algebra operations? \n",
    "# How can you use it to perform operations like matrix inversion or eigenvalue computation? \n",
    "\n",
    "# Role of numpy.linalg:\n",
    "# numpy.linalg is a submodule for linear algebra operations.\n",
    "# It provides functions for solving equations, inversion, and more.\n",
    "\n",
    "# Common Operations:\n",
    "\n",
    "# Matrix Inversion\n",
    "# np.linalg.inv(A)\n",
    "\n",
    "# Solving Linear Equations (Ax = b)\n",
    "# np.linalg.solve(A, b)\n",
    "\n",
    "# Determinant\n",
    "# np.linalg.det(A)\n",
    "\n",
    "# Eigenvalues and Eigenvectors\n",
    "# values, vectors = np.linalg.eig(A)\n",
    "\n",
    "# Matrix Rank\n",
    "# np.linalg.matrix_rank(A)\n",
    "\n",
    "\n",
    "# Coding Challenge 9:  \n",
    "# Create a 2x2 matrix and use `numpy.linalg.inv()` to compute its inverse. \n",
    "# Also, compute the eigenvalues and eigenvectors of the matrix.\n",
    "\n",
    "import numpy as np\n",
    "\n",
    "arr14 = np.arange(1, 5).reshape(2, 2)\n",
    "\n",
    "inverse = np.linalg.inv(arr14)\n",
    "print(\"inverse :\\n\",inverse)\n",
    "values, vectors = np.linalg.eig(arr14)\n",
    "print(\"eigenvalues and eigenvectors of the matrix :\\n\", values, vectors)"
   ]
  },
  {
   "cell_type": "code",
   "execution_count": null,
   "id": "bb5aff4e",
   "metadata": {},
   "outputs": [
    {
     "name": "stdout",
     "output_type": "stream",
     "text": [
      "Loaded array:\n",
      " [[0 1 2]\n",
      " [3 4 5]]\n"
     ]
    }
   ],
   "source": [
    "# 10.  How can you save and load NumPy arrays to and from files? What formats are supported?\n",
    "\n",
    "# Saving NumPy Arrays:\n",
    "# Save as .npy (binary format)\n",
    "# np.save('array.npy', arr)\n",
    "\n",
    "# Save multiple arrays in .npz (compressed)\n",
    "# np.savez('arrays.npz', a=arr1, b=arr2)\n",
    "\n",
    "# Save as text file (e.g., CSV or TXT)\n",
    "# np.savetxt('array.txt', arr, delimiter=',')\n",
    "\n",
    "# Loading NumPy Arrays:\n",
    "# Load .npy file\n",
    "# arr = np.load('array.npy')\n",
    "\n",
    "# Load .npz file\n",
    "# data = np.load('arrays.npz')\n",
    "# arr1 = data['a']\n",
    "\n",
    "# Load text file\n",
    "# arr = np.loadtxt('array.txt', delimiter=',')\n",
    "\n",
    "# Supported Formats:\n",
    "\n",
    "# .npy (efficient binary format)\n",
    "# .npz (compressed archive of .npy files)\n",
    "# .txt, .csv (text-based)\n",
    "\n",
    "# Coding Challenge 10:  \n",
    "# Write a Python script that saves a NumPy array to a file using `numpy.save()` and then loads it back using `numpy.load()`.\n",
    "\n",
    "import numpy as np\n",
    "\n",
    "arr15 = np.arange(0, 6)\n",
    "arr15.resize(2, 3)  # Resize in-place\n",
    "\n",
    "np.save('my_array.npy', arr15)           # Save the array\n",
    "loaded_arr = np.load('my_array.npy')     # Load the array\n",
    "print(\"Loaded array:\\n\", loaded_arr)     # Print the loaded array"
   ]
  }
 ],
 "metadata": {
  "kernelspec": {
   "display_name": "base",
   "language": "python",
   "name": "python3"
  },
  "language_info": {
   "codemirror_mode": {
    "name": "ipython",
    "version": 3
   },
   "file_extension": ".py",
   "mimetype": "text/x-python",
   "name": "python",
   "nbconvert_exporter": "python",
   "pygments_lexer": "ipython3",
   "version": "3.12.7"
  }
 },
 "nbformat": 4,
 "nbformat_minor": 5
}
